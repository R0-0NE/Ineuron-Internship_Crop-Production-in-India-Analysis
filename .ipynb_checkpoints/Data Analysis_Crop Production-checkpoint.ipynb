{
 "cells": [
  {
   "cell_type": "markdown",
   "id": "ff4e0685",
   "metadata": {},
   "source": [
    "## Project Title: Crop Production in India"
   ]
  },
  {
   "cell_type": "code",
   "execution_count": 93,
   "id": "f2ff0e30",
   "metadata": {},
   "outputs": [],
   "source": [
    "#importing libraries\n",
    "import numpy as np \n",
    "import pandas as pd \n",
    "import matplotlib.pyplot as plt \n",
    "import seaborn as sns\n",
    "%matplotlib inline"
   ]
  },
  {
   "cell_type": "code",
   "execution_count": 94,
   "id": "56872eac",
   "metadata": {},
   "outputs": [
    {
     "data": {
      "text/html": [
       "<div>\n",
       "<style scoped>\n",
       "    .dataframe tbody tr th:only-of-type {\n",
       "        vertical-align: middle;\n",
       "    }\n",
       "\n",
       "    .dataframe tbody tr th {\n",
       "        vertical-align: top;\n",
       "    }\n",
       "\n",
       "    .dataframe thead th {\n",
       "        text-align: right;\n",
       "    }\n",
       "</style>\n",
       "<table border=\"1\" class=\"dataframe\">\n",
       "  <thead>\n",
       "    <tr style=\"text-align: right;\">\n",
       "      <th></th>\n",
       "      <th>State_Name</th>\n",
       "      <th>District_Name</th>\n",
       "      <th>Crop_Year</th>\n",
       "      <th>Season</th>\n",
       "      <th>Crop</th>\n",
       "      <th>Area</th>\n",
       "      <th>Production</th>\n",
       "    </tr>\n",
       "  </thead>\n",
       "  <tbody>\n",
       "    <tr>\n",
       "      <th>0</th>\n",
       "      <td>Andaman and Nicobar Islands</td>\n",
       "      <td>NICOBARS</td>\n",
       "      <td>2000</td>\n",
       "      <td>Kharif</td>\n",
       "      <td>Arecanut</td>\n",
       "      <td>1254.0</td>\n",
       "      <td>2000.0</td>\n",
       "    </tr>\n",
       "    <tr>\n",
       "      <th>1</th>\n",
       "      <td>Andaman and Nicobar Islands</td>\n",
       "      <td>NICOBARS</td>\n",
       "      <td>2000</td>\n",
       "      <td>Kharif</td>\n",
       "      <td>Other Kharif pulses</td>\n",
       "      <td>2.0</td>\n",
       "      <td>1.0</td>\n",
       "    </tr>\n",
       "    <tr>\n",
       "      <th>2</th>\n",
       "      <td>Andaman and Nicobar Islands</td>\n",
       "      <td>NICOBARS</td>\n",
       "      <td>2000</td>\n",
       "      <td>Kharif</td>\n",
       "      <td>Rice</td>\n",
       "      <td>102.0</td>\n",
       "      <td>321.0</td>\n",
       "    </tr>\n",
       "    <tr>\n",
       "      <th>3</th>\n",
       "      <td>Andaman and Nicobar Islands</td>\n",
       "      <td>NICOBARS</td>\n",
       "      <td>2000</td>\n",
       "      <td>Whole Year</td>\n",
       "      <td>Banana</td>\n",
       "      <td>176.0</td>\n",
       "      <td>641.0</td>\n",
       "    </tr>\n",
       "    <tr>\n",
       "      <th>4</th>\n",
       "      <td>Andaman and Nicobar Islands</td>\n",
       "      <td>NICOBARS</td>\n",
       "      <td>2000</td>\n",
       "      <td>Whole Year</td>\n",
       "      <td>Cashewnut</td>\n",
       "      <td>720.0</td>\n",
       "      <td>165.0</td>\n",
       "    </tr>\n",
       "  </tbody>\n",
       "</table>\n",
       "</div>"
      ],
      "text/plain": [
       "                    State_Name District_Name  Crop_Year       Season  \\\n",
       "0  Andaman and Nicobar Islands      NICOBARS       2000  Kharif        \n",
       "1  Andaman and Nicobar Islands      NICOBARS       2000  Kharif        \n",
       "2  Andaman and Nicobar Islands      NICOBARS       2000  Kharif        \n",
       "3  Andaman and Nicobar Islands      NICOBARS       2000  Whole Year    \n",
       "4  Andaman and Nicobar Islands      NICOBARS       2000  Whole Year    \n",
       "\n",
       "                  Crop    Area  Production  \n",
       "0             Arecanut  1254.0      2000.0  \n",
       "1  Other Kharif pulses     2.0         1.0  \n",
       "2                 Rice   102.0       321.0  \n",
       "3               Banana   176.0       641.0  \n",
       "4            Cashewnut   720.0       165.0  "
      ]
     },
     "execution_count": 94,
     "metadata": {},
     "output_type": "execute_result"
    }
   ],
   "source": [
    "#load the dataset\n",
    "df= pd.read_csv(\"crop_production.csv\")\n",
    "df.head()"
   ]
  },
  {
   "cell_type": "code",
   "execution_count": 95,
   "id": "32617708",
   "metadata": {},
   "outputs": [
    {
     "data": {
      "text/plain": [
       "(246091, 7)"
      ]
     },
     "execution_count": 95,
     "metadata": {},
     "output_type": "execute_result"
    }
   ],
   "source": [
    "#print shape\n",
    "df.shape"
   ]
  },
  {
   "cell_type": "code",
   "execution_count": 96,
   "id": "785d1b89",
   "metadata": {},
   "outputs": [
    {
     "data": {
      "text/plain": [
       "Index(['State_Name', 'District_Name', 'Crop_Year', 'Season', 'Crop', 'Area',\n",
       "       'Production'],\n",
       "      dtype='object')"
      ]
     },
     "execution_count": 96,
     "metadata": {},
     "output_type": "execute_result"
    }
   ],
   "source": [
    "#checking column names\n",
    "df.columns"
   ]
  },
  {
   "cell_type": "code",
   "execution_count": 97,
   "id": "0357b5f9",
   "metadata": {},
   "outputs": [
    {
     "name": "stdout",
     "output_type": "stream",
     "text": [
      "<class 'pandas.core.frame.DataFrame'>\n",
      "RangeIndex: 246091 entries, 0 to 246090\n",
      "Data columns (total 7 columns):\n",
      " #   Column         Non-Null Count   Dtype  \n",
      "---  ------         --------------   -----  \n",
      " 0   State_Name     246091 non-null  object \n",
      " 1   District_Name  246091 non-null  object \n",
      " 2   Crop_Year      246091 non-null  int64  \n",
      " 3   Season         246091 non-null  object \n",
      " 4   Crop           246091 non-null  object \n",
      " 5   Area           246091 non-null  float64\n",
      " 6   Production     242361 non-null  float64\n",
      "dtypes: float64(2), int64(1), object(4)\n",
      "memory usage: 13.1+ MB\n"
     ]
    }
   ],
   "source": [
    "#printing info\n",
    "df.info()"
   ]
  },
  {
   "cell_type": "code",
   "execution_count": 98,
   "id": "6ea7e947",
   "metadata": {},
   "outputs": [
    {
     "data": {
      "text/plain": [
       "State_Name          0\n",
       "District_Name       0\n",
       "Crop_Year           0\n",
       "Season              0\n",
       "Crop                0\n",
       "Area                0\n",
       "Production       3730\n",
       "dtype: int64"
      ]
     },
     "execution_count": 98,
     "metadata": {},
     "output_type": "execute_result"
    }
   ],
   "source": [
    "#checking missing values\n",
    "df.isna().sum()"
   ]
  },
  {
   "cell_type": "code",
   "execution_count": 99,
   "id": "53d47123",
   "metadata": {},
   "outputs": [
    {
     "data": {
      "text/html": [
       "<div>\n",
       "<style scoped>\n",
       "    .dataframe tbody tr th:only-of-type {\n",
       "        vertical-align: middle;\n",
       "    }\n",
       "\n",
       "    .dataframe tbody tr th {\n",
       "        vertical-align: top;\n",
       "    }\n",
       "\n",
       "    .dataframe thead th {\n",
       "        text-align: right;\n",
       "    }\n",
       "</style>\n",
       "<table border=\"1\" class=\"dataframe\">\n",
       "  <thead>\n",
       "    <tr style=\"text-align: right;\">\n",
       "      <th></th>\n",
       "      <th>count</th>\n",
       "      <th>mean</th>\n",
       "      <th>std</th>\n",
       "      <th>min</th>\n",
       "      <th>25%</th>\n",
       "      <th>50%</th>\n",
       "      <th>75%</th>\n",
       "      <th>max</th>\n",
       "    </tr>\n",
       "  </thead>\n",
       "  <tbody>\n",
       "    <tr>\n",
       "      <th>Crop_Year</th>\n",
       "      <td>246091.0</td>\n",
       "      <td>2005.643018</td>\n",
       "      <td>4.952164e+00</td>\n",
       "      <td>1997.00</td>\n",
       "      <td>2002.0</td>\n",
       "      <td>2006.0</td>\n",
       "      <td>2010.0</td>\n",
       "      <td>2.015000e+03</td>\n",
       "    </tr>\n",
       "    <tr>\n",
       "      <th>Area</th>\n",
       "      <td>246091.0</td>\n",
       "      <td>12002.820864</td>\n",
       "      <td>5.052340e+04</td>\n",
       "      <td>0.04</td>\n",
       "      <td>80.0</td>\n",
       "      <td>582.0</td>\n",
       "      <td>4392.0</td>\n",
       "      <td>8.580100e+06</td>\n",
       "    </tr>\n",
       "    <tr>\n",
       "      <th>Production</th>\n",
       "      <td>242361.0</td>\n",
       "      <td>582503.442251</td>\n",
       "      <td>1.706581e+07</td>\n",
       "      <td>0.00</td>\n",
       "      <td>88.0</td>\n",
       "      <td>729.0</td>\n",
       "      <td>7023.0</td>\n",
       "      <td>1.250800e+09</td>\n",
       "    </tr>\n",
       "  </tbody>\n",
       "</table>\n",
       "</div>"
      ],
      "text/plain": [
       "               count           mean           std      min     25%     50%  \\\n",
       "Crop_Year   246091.0    2005.643018  4.952164e+00  1997.00  2002.0  2006.0   \n",
       "Area        246091.0   12002.820864  5.052340e+04     0.04    80.0   582.0   \n",
       "Production  242361.0  582503.442251  1.706581e+07     0.00    88.0   729.0   \n",
       "\n",
       "               75%           max  \n",
       "Crop_Year   2010.0  2.015000e+03  \n",
       "Area        4392.0  8.580100e+06  \n",
       "Production  7023.0  1.250800e+09  "
      ]
     },
     "execution_count": 99,
     "metadata": {},
     "output_type": "execute_result"
    }
   ],
   "source": [
    "df.describe().T"
   ]
  },
  {
   "cell_type": "code",
   "execution_count": null,
   "id": "6cd08e22",
   "metadata": {},
   "outputs": [],
   "source": [
    "#droping all na values"
   ]
  },
  {
   "cell_type": "code",
   "execution_count": 100,
   "id": "078017e6",
   "metadata": {},
   "outputs": [],
   "source": [
    "df.dropna(inplace=True) "
   ]
  },
  {
   "cell_type": "code",
   "execution_count": 101,
   "id": "251387e2",
   "metadata": {},
   "outputs": [
    {
     "data": {
      "text/plain": [
       "State_Name       0\n",
       "District_Name    0\n",
       "Crop_Year        0\n",
       "Season           0\n",
       "Crop             0\n",
       "Area             0\n",
       "Production       0\n",
       "dtype: int64"
      ]
     },
     "execution_count": 101,
     "metadata": {},
     "output_type": "execute_result"
    }
   ],
   "source": [
    "df.isnull().sum()"
   ]
  },
  {
   "cell_type": "code",
   "execution_count": 102,
   "id": "5ba4fcae",
   "metadata": {},
   "outputs": [
    {
     "data": {
      "text/html": [
       "<div>\n",
       "<style scoped>\n",
       "    .dataframe tbody tr th:only-of-type {\n",
       "        vertical-align: middle;\n",
       "    }\n",
       "\n",
       "    .dataframe tbody tr th {\n",
       "        vertical-align: top;\n",
       "    }\n",
       "\n",
       "    .dataframe thead th {\n",
       "        text-align: right;\n",
       "    }\n",
       "</style>\n",
       "<table border=\"1\" class=\"dataframe\">\n",
       "  <thead>\n",
       "    <tr style=\"text-align: right;\">\n",
       "      <th></th>\n",
       "      <th>State_Name</th>\n",
       "      <th>District_Name</th>\n",
       "      <th>Crop_Year</th>\n",
       "      <th>Season</th>\n",
       "      <th>Crop</th>\n",
       "      <th>Area</th>\n",
       "      <th>Production</th>\n",
       "    </tr>\n",
       "  </thead>\n",
       "  <tbody>\n",
       "    <tr>\n",
       "      <th>0</th>\n",
       "      <td>Andaman and Nicobar Islands</td>\n",
       "      <td>NICOBARS</td>\n",
       "      <td>2000</td>\n",
       "      <td>Kharif</td>\n",
       "      <td>Arecanut</td>\n",
       "      <td>1254.0</td>\n",
       "      <td>2000.00</td>\n",
       "    </tr>\n",
       "    <tr>\n",
       "      <th>1</th>\n",
       "      <td>Andaman and Nicobar Islands</td>\n",
       "      <td>NICOBARS</td>\n",
       "      <td>2000</td>\n",
       "      <td>Kharif</td>\n",
       "      <td>Other Kharif pulses</td>\n",
       "      <td>2.0</td>\n",
       "      <td>1.00</td>\n",
       "    </tr>\n",
       "    <tr>\n",
       "      <th>2</th>\n",
       "      <td>Andaman and Nicobar Islands</td>\n",
       "      <td>NICOBARS</td>\n",
       "      <td>2000</td>\n",
       "      <td>Kharif</td>\n",
       "      <td>Rice</td>\n",
       "      <td>102.0</td>\n",
       "      <td>321.00</td>\n",
       "    </tr>\n",
       "    <tr>\n",
       "      <th>3</th>\n",
       "      <td>Andaman and Nicobar Islands</td>\n",
       "      <td>NICOBARS</td>\n",
       "      <td>2000</td>\n",
       "      <td>Whole Year</td>\n",
       "      <td>Banana</td>\n",
       "      <td>176.0</td>\n",
       "      <td>641.00</td>\n",
       "    </tr>\n",
       "    <tr>\n",
       "      <th>4</th>\n",
       "      <td>Andaman and Nicobar Islands</td>\n",
       "      <td>NICOBARS</td>\n",
       "      <td>2000</td>\n",
       "      <td>Whole Year</td>\n",
       "      <td>Cashewnut</td>\n",
       "      <td>720.0</td>\n",
       "      <td>165.00</td>\n",
       "    </tr>\n",
       "    <tr>\n",
       "      <th>5</th>\n",
       "      <td>Andaman and Nicobar Islands</td>\n",
       "      <td>NICOBARS</td>\n",
       "      <td>2000</td>\n",
       "      <td>Whole Year</td>\n",
       "      <td>Coconut</td>\n",
       "      <td>18168.0</td>\n",
       "      <td>65100000.00</td>\n",
       "    </tr>\n",
       "    <tr>\n",
       "      <th>6</th>\n",
       "      <td>Andaman and Nicobar Islands</td>\n",
       "      <td>NICOBARS</td>\n",
       "      <td>2000</td>\n",
       "      <td>Whole Year</td>\n",
       "      <td>Dry ginger</td>\n",
       "      <td>36.0</td>\n",
       "      <td>100.00</td>\n",
       "    </tr>\n",
       "    <tr>\n",
       "      <th>7</th>\n",
       "      <td>Andaman and Nicobar Islands</td>\n",
       "      <td>NICOBARS</td>\n",
       "      <td>2000</td>\n",
       "      <td>Whole Year</td>\n",
       "      <td>Sugarcane</td>\n",
       "      <td>1.0</td>\n",
       "      <td>2.00</td>\n",
       "    </tr>\n",
       "    <tr>\n",
       "      <th>8</th>\n",
       "      <td>Andaman and Nicobar Islands</td>\n",
       "      <td>NICOBARS</td>\n",
       "      <td>2000</td>\n",
       "      <td>Whole Year</td>\n",
       "      <td>Sweet potato</td>\n",
       "      <td>5.0</td>\n",
       "      <td>15.00</td>\n",
       "    </tr>\n",
       "    <tr>\n",
       "      <th>9</th>\n",
       "      <td>Andaman and Nicobar Islands</td>\n",
       "      <td>NICOBARS</td>\n",
       "      <td>2000</td>\n",
       "      <td>Whole Year</td>\n",
       "      <td>Tapioca</td>\n",
       "      <td>40.0</td>\n",
       "      <td>169.00</td>\n",
       "    </tr>\n",
       "    <tr>\n",
       "      <th>10</th>\n",
       "      <td>Andaman and Nicobar Islands</td>\n",
       "      <td>NICOBARS</td>\n",
       "      <td>2001</td>\n",
       "      <td>Kharif</td>\n",
       "      <td>Arecanut</td>\n",
       "      <td>1254.0</td>\n",
       "      <td>2061.00</td>\n",
       "    </tr>\n",
       "    <tr>\n",
       "      <th>11</th>\n",
       "      <td>Andaman and Nicobar Islands</td>\n",
       "      <td>NICOBARS</td>\n",
       "      <td>2001</td>\n",
       "      <td>Kharif</td>\n",
       "      <td>Other Kharif pulses</td>\n",
       "      <td>2.0</td>\n",
       "      <td>1.00</td>\n",
       "    </tr>\n",
       "    <tr>\n",
       "      <th>12</th>\n",
       "      <td>Andaman and Nicobar Islands</td>\n",
       "      <td>NICOBARS</td>\n",
       "      <td>2001</td>\n",
       "      <td>Kharif</td>\n",
       "      <td>Rice</td>\n",
       "      <td>83.0</td>\n",
       "      <td>300.00</td>\n",
       "    </tr>\n",
       "    <tr>\n",
       "      <th>13</th>\n",
       "      <td>Andaman and Nicobar Islands</td>\n",
       "      <td>NICOBARS</td>\n",
       "      <td>2001</td>\n",
       "      <td>Whole Year</td>\n",
       "      <td>Cashewnut</td>\n",
       "      <td>719.0</td>\n",
       "      <td>192.00</td>\n",
       "    </tr>\n",
       "    <tr>\n",
       "      <th>14</th>\n",
       "      <td>Andaman and Nicobar Islands</td>\n",
       "      <td>NICOBARS</td>\n",
       "      <td>2001</td>\n",
       "      <td>Whole Year</td>\n",
       "      <td>Coconut</td>\n",
       "      <td>18190.0</td>\n",
       "      <td>64430000.00</td>\n",
       "    </tr>\n",
       "    <tr>\n",
       "      <th>15</th>\n",
       "      <td>Andaman and Nicobar Islands</td>\n",
       "      <td>NICOBARS</td>\n",
       "      <td>2001</td>\n",
       "      <td>Whole Year</td>\n",
       "      <td>Dry ginger</td>\n",
       "      <td>46.0</td>\n",
       "      <td>100.00</td>\n",
       "    </tr>\n",
       "    <tr>\n",
       "      <th>16</th>\n",
       "      <td>Andaman and Nicobar Islands</td>\n",
       "      <td>NICOBARS</td>\n",
       "      <td>2001</td>\n",
       "      <td>Whole Year</td>\n",
       "      <td>Sugarcane</td>\n",
       "      <td>1.0</td>\n",
       "      <td>1.00</td>\n",
       "    </tr>\n",
       "    <tr>\n",
       "      <th>17</th>\n",
       "      <td>Andaman and Nicobar Islands</td>\n",
       "      <td>NICOBARS</td>\n",
       "      <td>2001</td>\n",
       "      <td>Whole Year</td>\n",
       "      <td>Sweet potato</td>\n",
       "      <td>11.0</td>\n",
       "      <td>33.00</td>\n",
       "    </tr>\n",
       "    <tr>\n",
       "      <th>18</th>\n",
       "      <td>Andaman and Nicobar Islands</td>\n",
       "      <td>NICOBARS</td>\n",
       "      <td>2002</td>\n",
       "      <td>Kharif</td>\n",
       "      <td>Rice</td>\n",
       "      <td>189.2</td>\n",
       "      <td>510.84</td>\n",
       "    </tr>\n",
       "    <tr>\n",
       "      <th>19</th>\n",
       "      <td>Andaman and Nicobar Islands</td>\n",
       "      <td>NICOBARS</td>\n",
       "      <td>2002</td>\n",
       "      <td>Whole Year</td>\n",
       "      <td>Arecanut</td>\n",
       "      <td>1258.0</td>\n",
       "      <td>2083.00</td>\n",
       "    </tr>\n",
       "    <tr>\n",
       "      <th>20</th>\n",
       "      <td>Andaman and Nicobar Islands</td>\n",
       "      <td>NICOBARS</td>\n",
       "      <td>2002</td>\n",
       "      <td>Whole Year</td>\n",
       "      <td>Banana</td>\n",
       "      <td>213.0</td>\n",
       "      <td>1278.00</td>\n",
       "    </tr>\n",
       "    <tr>\n",
       "      <th>21</th>\n",
       "      <td>Andaman and Nicobar Islands</td>\n",
       "      <td>NICOBARS</td>\n",
       "      <td>2002</td>\n",
       "      <td>Whole Year</td>\n",
       "      <td>Black pepper</td>\n",
       "      <td>63.0</td>\n",
       "      <td>13.50</td>\n",
       "    </tr>\n",
       "    <tr>\n",
       "      <th>22</th>\n",
       "      <td>Andaman and Nicobar Islands</td>\n",
       "      <td>NICOBARS</td>\n",
       "      <td>2002</td>\n",
       "      <td>Whole Year</td>\n",
       "      <td>Cashewnut</td>\n",
       "      <td>719.0</td>\n",
       "      <td>208.00</td>\n",
       "    </tr>\n",
       "    <tr>\n",
       "      <th>23</th>\n",
       "      <td>Andaman and Nicobar Islands</td>\n",
       "      <td>NICOBARS</td>\n",
       "      <td>2002</td>\n",
       "      <td>Whole Year</td>\n",
       "      <td>Coconut</td>\n",
       "      <td>18240.0</td>\n",
       "      <td>67490000.00</td>\n",
       "    </tr>\n",
       "    <tr>\n",
       "      <th>24</th>\n",
       "      <td>Andaman and Nicobar Islands</td>\n",
       "      <td>NICOBARS</td>\n",
       "      <td>2002</td>\n",
       "      <td>Whole Year</td>\n",
       "      <td>Dry chillies</td>\n",
       "      <td>413.0</td>\n",
       "      <td>28.80</td>\n",
       "    </tr>\n",
       "    <tr>\n",
       "      <th>25</th>\n",
       "      <td>Andaman and Nicobar Islands</td>\n",
       "      <td>NICOBARS</td>\n",
       "      <td>2002</td>\n",
       "      <td>Whole Year</td>\n",
       "      <td>Dry ginger</td>\n",
       "      <td>47.3</td>\n",
       "      <td>133.00</td>\n",
       "    </tr>\n",
       "    <tr>\n",
       "      <th>26</th>\n",
       "      <td>Andaman and Nicobar Islands</td>\n",
       "      <td>NICOBARS</td>\n",
       "      <td>2002</td>\n",
       "      <td>Whole Year</td>\n",
       "      <td>Sugarcane</td>\n",
       "      <td>5.0</td>\n",
       "      <td>40.00</td>\n",
       "    </tr>\n",
       "    <tr>\n",
       "      <th>27</th>\n",
       "      <td>Andaman and Nicobar Islands</td>\n",
       "      <td>NICOBARS</td>\n",
       "      <td>2003</td>\n",
       "      <td>Kharif</td>\n",
       "      <td>Rice</td>\n",
       "      <td>52.0</td>\n",
       "      <td>90.17</td>\n",
       "    </tr>\n",
       "    <tr>\n",
       "      <th>28</th>\n",
       "      <td>Andaman and Nicobar Islands</td>\n",
       "      <td>NICOBARS</td>\n",
       "      <td>2003</td>\n",
       "      <td>Whole Year</td>\n",
       "      <td>Arecanut</td>\n",
       "      <td>1261.0</td>\n",
       "      <td>1525.00</td>\n",
       "    </tr>\n",
       "    <tr>\n",
       "      <th>29</th>\n",
       "      <td>Andaman and Nicobar Islands</td>\n",
       "      <td>NICOBARS</td>\n",
       "      <td>2003</td>\n",
       "      <td>Whole Year</td>\n",
       "      <td>Banana</td>\n",
       "      <td>266.0</td>\n",
       "      <td>1763.00</td>\n",
       "    </tr>\n",
       "  </tbody>\n",
       "</table>\n",
       "</div>"
      ],
      "text/plain": [
       "                     State_Name District_Name  Crop_Year       Season  \\\n",
       "0   Andaman and Nicobar Islands      NICOBARS       2000  Kharif        \n",
       "1   Andaman and Nicobar Islands      NICOBARS       2000  Kharif        \n",
       "2   Andaman and Nicobar Islands      NICOBARS       2000  Kharif        \n",
       "3   Andaman and Nicobar Islands      NICOBARS       2000  Whole Year    \n",
       "4   Andaman and Nicobar Islands      NICOBARS       2000  Whole Year    \n",
       "5   Andaman and Nicobar Islands      NICOBARS       2000  Whole Year    \n",
       "6   Andaman and Nicobar Islands      NICOBARS       2000  Whole Year    \n",
       "7   Andaman and Nicobar Islands      NICOBARS       2000  Whole Year    \n",
       "8   Andaman and Nicobar Islands      NICOBARS       2000  Whole Year    \n",
       "9   Andaman and Nicobar Islands      NICOBARS       2000  Whole Year    \n",
       "10  Andaman and Nicobar Islands      NICOBARS       2001  Kharif        \n",
       "11  Andaman and Nicobar Islands      NICOBARS       2001  Kharif        \n",
       "12  Andaman and Nicobar Islands      NICOBARS       2001  Kharif        \n",
       "13  Andaman and Nicobar Islands      NICOBARS       2001  Whole Year    \n",
       "14  Andaman and Nicobar Islands      NICOBARS       2001  Whole Year    \n",
       "15  Andaman and Nicobar Islands      NICOBARS       2001  Whole Year    \n",
       "16  Andaman and Nicobar Islands      NICOBARS       2001  Whole Year    \n",
       "17  Andaman and Nicobar Islands      NICOBARS       2001  Whole Year    \n",
       "18  Andaman and Nicobar Islands      NICOBARS       2002  Kharif        \n",
       "19  Andaman and Nicobar Islands      NICOBARS       2002  Whole Year    \n",
       "20  Andaman and Nicobar Islands      NICOBARS       2002  Whole Year    \n",
       "21  Andaman and Nicobar Islands      NICOBARS       2002  Whole Year    \n",
       "22  Andaman and Nicobar Islands      NICOBARS       2002  Whole Year    \n",
       "23  Andaman and Nicobar Islands      NICOBARS       2002  Whole Year    \n",
       "24  Andaman and Nicobar Islands      NICOBARS       2002  Whole Year    \n",
       "25  Andaman and Nicobar Islands      NICOBARS       2002  Whole Year    \n",
       "26  Andaman and Nicobar Islands      NICOBARS       2002  Whole Year    \n",
       "27  Andaman and Nicobar Islands      NICOBARS       2003  Kharif        \n",
       "28  Andaman and Nicobar Islands      NICOBARS       2003  Whole Year    \n",
       "29  Andaman and Nicobar Islands      NICOBARS       2003  Whole Year    \n",
       "\n",
       "                   Crop     Area   Production  \n",
       "0              Arecanut   1254.0      2000.00  \n",
       "1   Other Kharif pulses      2.0         1.00  \n",
       "2                  Rice    102.0       321.00  \n",
       "3                Banana    176.0       641.00  \n",
       "4             Cashewnut    720.0       165.00  \n",
       "5              Coconut   18168.0  65100000.00  \n",
       "6            Dry ginger     36.0       100.00  \n",
       "7             Sugarcane      1.0         2.00  \n",
       "8          Sweet potato      5.0        15.00  \n",
       "9               Tapioca     40.0       169.00  \n",
       "10             Arecanut   1254.0      2061.00  \n",
       "11  Other Kharif pulses      2.0         1.00  \n",
       "12                 Rice     83.0       300.00  \n",
       "13            Cashewnut    719.0       192.00  \n",
       "14             Coconut   18190.0  64430000.00  \n",
       "15           Dry ginger     46.0       100.00  \n",
       "16            Sugarcane      1.0         1.00  \n",
       "17         Sweet potato     11.0        33.00  \n",
       "18                 Rice    189.2       510.84  \n",
       "19             Arecanut   1258.0      2083.00  \n",
       "20               Banana    213.0      1278.00  \n",
       "21         Black pepper     63.0        13.50  \n",
       "22            Cashewnut    719.0       208.00  \n",
       "23             Coconut   18240.0  67490000.00  \n",
       "24         Dry chillies    413.0        28.80  \n",
       "25           Dry ginger     47.3       133.00  \n",
       "26            Sugarcane      5.0        40.00  \n",
       "27                 Rice     52.0        90.17  \n",
       "28             Arecanut   1261.0      1525.00  \n",
       "29               Banana    266.0      1763.00  "
      ]
     },
     "execution_count": 102,
     "metadata": {},
     "output_type": "execute_result"
    }
   ],
   "source": [
    "df.head(30)"
   ]
  },
  {
   "cell_type": "code",
   "execution_count": 103,
   "id": "df2f1485",
   "metadata": {},
   "outputs": [
    {
     "name": "stdout",
     "output_type": "stream",
     "text": [
      "(242361,)\n",
      "(242361,)\n"
     ]
    }
   ],
   "source": [
    "print(df['Area'].shape)\n",
    "print(df['Production'].shape)"
   ]
  },
  {
   "cell_type": "code",
   "execution_count": 104,
   "id": "a0bf570c",
   "metadata": {},
   "outputs": [],
   "source": [
    "#we can see some values of  area are less than 10, so we'll drop rows with values <= 10.\n",
    "areas_to_exclude = [1, 2, 3, 4, 5, 6, 7, 10]\n",
    "\n",
    "for area in areas_to_exclude:\n",
    "    df = df.drop(df[df['Area'] == area].index)\n"
   ]
  },
  {
   "cell_type": "code",
   "execution_count": 105,
   "id": "4257e436",
   "metadata": {},
   "outputs": [
    {
     "data": {
      "text/plain": [
       "(224003,)"
      ]
     },
     "execution_count": 105,
     "metadata": {},
     "output_type": "execute_result"
    }
   ],
   "source": [
    "df['Area'].shape"
   ]
  },
  {
   "cell_type": "code",
   "execution_count": 106,
   "id": "0fde1955",
   "metadata": {},
   "outputs": [],
   "source": [
    "#we can see some values of production are less than 10, so we'll drop rows with values <= 10.\n",
    "area_to_exclude = [0,1, 2, 3, 4, 5, 6, 7, 10]\n",
    "\n",
    "for area in area_to_exclude:\n",
    "    df = df.drop(df[df['Production'] == area].index)"
   ]
  },
  {
   "cell_type": "code",
   "execution_count": 107,
   "id": "fb41be16",
   "metadata": {},
   "outputs": [
    {
     "data": {
      "text/plain": [
       "(215597, 7)"
      ]
     },
     "execution_count": 107,
     "metadata": {},
     "output_type": "execute_result"
    }
   ],
   "source": [
    "df.shape"
   ]
  },
  {
   "cell_type": "code",
   "execution_count": 108,
   "id": "89d28dc8",
   "metadata": {},
   "outputs": [
    {
     "data": {
      "text/plain": [
       "array(['Kharif     ', 'Whole Year ', 'Autumn     ', 'Rabi       ',\n",
       "       'Summer     ', 'Winter     '], dtype=object)"
      ]
     },
     "execution_count": 108,
     "metadata": {},
     "output_type": "execute_result"
    }
   ],
   "source": [
    "# checking unique type of season\n",
    "df.Season.unique()"
   ]
  },
  {
   "cell_type": "code",
   "execution_count": 109,
   "id": "3890457d",
   "metadata": {},
   "outputs": [
    {
     "data": {
      "text/plain": [
       "array(['Arecanut', 'Rice', 'Banana', 'Cashewnut', 'Coconut ',\n",
       "       'Dry ginger', 'Tapioca', 'Sweet potato', 'Black pepper',\n",
       "       'Dry chillies', 'other oilseeds', 'Sugarcane', 'Turmeric', 'Maize',\n",
       "       'Moong(Green Gram)', 'Urad', 'Other Kharif pulses', 'Arhar/Tur',\n",
       "       'Groundnut', 'Sunflower', 'Bajra', 'Castor seed', 'Cotton(lint)',\n",
       "       'Horse-gram', 'Jowar', 'Korra', 'Ragi', 'Tobacco', 'Gram', 'Wheat',\n",
       "       'Masoor', 'Safflower', 'Onion', 'other misc. pulses',\n",
       "       'Small millets', 'Coriander', 'Bhindi', 'Brinjal', 'Citrus Fruit',\n",
       "       'Grapes', 'Mango', 'Orange', 'Other Fresh Fruits', 'Papaya',\n",
       "       'Pome Fruit', 'Tomato', 'Samai', 'Soyabean', 'Linseed', 'Mesta',\n",
       "       'Potato', 'Cowpea(Lobia)', 'Lemon', 'Pome Granet', 'Sapota',\n",
       "       'Cabbage', 'Sesamum', 'Beans & Mutter(Vegetable)',\n",
       "       'Other  Rabi pulses', 'Rapeseed &Mustard', 'Niger seed', 'Varagu',\n",
       "       'Ginger', 'Oilseeds total', 'Pulses total', 'Jute',\n",
       "       'Peas & beans (Pulses)', 'Blackgram', 'Paddy', 'Pineapple',\n",
       "       'Barley', 'Garlic', 'Khesari', 'Sannhamp', 'Guar seed',\n",
       "       'Other Vegetables', 'Moth', 'Other Cereals & Millets',\n",
       "       'Cond-spcs other', 'Turnip', 'Carrot', 'Redish',\n",
       "       'Arcanut (Processed)', 'Atcanut (Raw)', 'Cashewnut Raw',\n",
       "       'Cashewnut Processed', 'Cardamom', 'Rubber', 'Drum Stick',\n",
       "       'Jack Fruit', 'Coffee', 'Tea', 'Total foodgrain', 'Cauliflower',\n",
       "       'Bitter Gourd', 'Bottle Gourd', 'Kapas', 'Colocosia', 'Lentil',\n",
       "       'Bean', 'Jobster', 'Perilla', 'Rajmash Kholar',\n",
       "       'Ricebean (nagadal)', 'Jute & mesta'], dtype=object)"
      ]
     },
     "execution_count": 109,
     "metadata": {},
     "output_type": "execute_result"
    }
   ],
   "source": [
    "df.Crop.unique()"
   ]
  },
  {
   "cell_type": "code",
   "execution_count": 110,
   "id": "d40d43ce",
   "metadata": {},
   "outputs": [
    {
     "data": {
      "text/plain": [
       "array(['Andaman and Nicobar Islands', 'Andhra Pradesh',\n",
       "       'Arunachal Pradesh', 'Assam', 'Bihar', 'Chandigarh',\n",
       "       'Chhattisgarh', 'Dadra and Nagar Haveli', 'Goa', 'Gujarat',\n",
       "       'Haryana', 'Himachal Pradesh', 'Jammu and Kashmir ', 'Jharkhand',\n",
       "       'Karnataka', 'Kerala', 'Madhya Pradesh', 'Maharashtra', 'Manipur',\n",
       "       'Meghalaya', 'Mizoram', 'Nagaland', 'Odisha', 'Puducherry',\n",
       "       'Punjab', 'Rajasthan', 'Sikkim', 'Tamil Nadu', 'Telangana ',\n",
       "       'Tripura', 'Uttar Pradesh', 'Uttarakhand', 'West Bengal'],\n",
       "      dtype=object)"
      ]
     },
     "execution_count": 110,
     "metadata": {},
     "output_type": "execute_result"
    }
   ],
   "source": [
    "df.State_Name.unique()"
   ]
  },
  {
   "cell_type": "code",
   "execution_count": 111,
   "id": "6fd9b9bf",
   "metadata": {},
   "outputs": [],
   "source": [
    "#we remove unwanted white spaces from season column \n",
    "\n",
    "df['Season']=df['Season'].apply(lambda x : x.strip())\n",
    "df['Crop']=df['Crop'].apply(lambda x : x.strip())\n",
    "df['State_Name']=df['State_Name'].apply(lambda x : x.strip())"
   ]
  },
  {
   "cell_type": "code",
   "execution_count": 112,
   "id": "5b66d812",
   "metadata": {},
   "outputs": [
    {
     "data": {
      "text/plain": [
       "array(['Kharif', 'Whole Year', 'Autumn', 'Rabi', 'Summer', 'Winter'],\n",
       "      dtype=object)"
      ]
     },
     "execution_count": 112,
     "metadata": {},
     "output_type": "execute_result"
    }
   ],
   "source": [
    "df['Season'].unique()"
   ]
  },
  {
   "cell_type": "code",
   "execution_count": 113,
   "id": "853e7448",
   "metadata": {},
   "outputs": [
    {
     "data": {
      "text/plain": [
       "array(['Andaman and Nicobar Islands', 'Andhra Pradesh',\n",
       "       'Arunachal Pradesh', 'Assam', 'Bihar', 'Chandigarh',\n",
       "       'Chhattisgarh', 'Dadra and Nagar Haveli', 'Goa', 'Gujarat',\n",
       "       'Haryana', 'Himachal Pradesh', 'Jammu and Kashmir', 'Jharkhand',\n",
       "       'Karnataka', 'Kerala', 'Madhya Pradesh', 'Maharashtra', 'Manipur',\n",
       "       'Meghalaya', 'Mizoram', 'Nagaland', 'Odisha', 'Puducherry',\n",
       "       'Punjab', 'Rajasthan', 'Sikkim', 'Tamil Nadu', 'Telangana',\n",
       "       'Tripura', 'Uttar Pradesh', 'Uttarakhand', 'West Bengal'],\n",
       "      dtype=object)"
      ]
     },
     "execution_count": 113,
     "metadata": {},
     "output_type": "execute_result"
    }
   ],
   "source": [
    "df['State_Name'].unique()"
   ]
  },
  {
   "cell_type": "code",
   "execution_count": 114,
   "id": "e909df48",
   "metadata": {},
   "outputs": [
    {
     "data": {
      "text/plain": [
       "array(['Arecanut', 'Rice', 'Banana', 'Cashewnut', 'Coconut', 'Dry ginger',\n",
       "       'Tapioca', 'Sweet potato', 'Black pepper', 'Dry chillies',\n",
       "       'other oilseeds', 'Sugarcane', 'Turmeric', 'Maize',\n",
       "       'Moong(Green Gram)', 'Urad', 'Other Kharif pulses', 'Arhar/Tur',\n",
       "       'Groundnut', 'Sunflower', 'Bajra', 'Castor seed', 'Cotton(lint)',\n",
       "       'Horse-gram', 'Jowar', 'Korra', 'Ragi', 'Tobacco', 'Gram', 'Wheat',\n",
       "       'Masoor', 'Safflower', 'Onion', 'other misc. pulses',\n",
       "       'Small millets', 'Coriander', 'Bhindi', 'Brinjal', 'Citrus Fruit',\n",
       "       'Grapes', 'Mango', 'Orange', 'Other Fresh Fruits', 'Papaya',\n",
       "       'Pome Fruit', 'Tomato', 'Samai', 'Soyabean', 'Linseed', 'Mesta',\n",
       "       'Potato', 'Cowpea(Lobia)', 'Lemon', 'Pome Granet', 'Sapota',\n",
       "       'Cabbage', 'Sesamum', 'Beans & Mutter(Vegetable)',\n",
       "       'Other  Rabi pulses', 'Rapeseed &Mustard', 'Niger seed', 'Varagu',\n",
       "       'Ginger', 'Oilseeds total', 'Pulses total', 'Jute',\n",
       "       'Peas & beans (Pulses)', 'Blackgram', 'Paddy', 'Pineapple',\n",
       "       'Barley', 'Garlic', 'Khesari', 'Sannhamp', 'Guar seed',\n",
       "       'Other Vegetables', 'Moth', 'Other Cereals & Millets',\n",
       "       'Cond-spcs other', 'Turnip', 'Carrot', 'Redish',\n",
       "       'Arcanut (Processed)', 'Atcanut (Raw)', 'Cashewnut Raw',\n",
       "       'Cashewnut Processed', 'Cardamom', 'Rubber', 'Drum Stick',\n",
       "       'Jack Fruit', 'Coffee', 'Tea', 'Total foodgrain', 'Cauliflower',\n",
       "       'Bitter Gourd', 'Bottle Gourd', 'Kapas', 'Colocosia', 'Lentil',\n",
       "       'Bean', 'Jobster', 'Perilla', 'Rajmash Kholar',\n",
       "       'Ricebean (nagadal)', 'Jute & mesta'], dtype=object)"
      ]
     },
     "execution_count": 114,
     "metadata": {},
     "output_type": "execute_result"
    }
   ],
   "source": [
    "df['Crop'].unique()"
   ]
  },
  {
   "cell_type": "code",
   "execution_count": 115,
   "id": "38637936",
   "metadata": {},
   "outputs": [
    {
     "data": {
      "text/plain": [
       "Kharif        84742\n",
       "Rabi          60409\n",
       "Whole Year    47178\n",
       "Summer        13111\n",
       "Winter         5613\n",
       "Autumn         4544\n",
       "Name: Season, dtype: int64"
      ]
     },
     "execution_count": 115,
     "metadata": {},
     "output_type": "execute_result"
    }
   ],
   "source": [
    "df['Season'].value_counts()"
   ]
  },
  {
   "cell_type": "code",
   "execution_count": 116,
   "id": "74f01937",
   "metadata": {},
   "outputs": [],
   "source": [
    "df['Season']=df['Season'].apply(lambda x : x.replace('Autumn','Kharif'))\n",
    "df['Season']=df['Season'].apply(lambda x : x.replace('Summer','Kharif'))\n",
    "df['Season']=df['Season'].apply(lambda x : x.replace('Winter','Rabi'))"
   ]
  },
  {
   "cell_type": "code",
   "execution_count": 157,
   "id": "7e5e9f13",
   "metadata": {},
   "outputs": [
    {
     "data": {
      "text/plain": [
       "<Axes: >"
      ]
     },
     "execution_count": 157,
     "metadata": {},
     "output_type": "execute_result"
    },
    {
     "data": {
      "image/png": "[encoded data removed]",
      "text/plain": [
       "<Figure size 640x480 with 1 Axes>"
      ]
     },
     "metadata": {},
     "output_type": "display_data"
    }
   ],
   "source": [
    "df['Season'].value_counts().plot.bar(color=[\"olive\", \"green\",\"lightgreen\"])"
   ]
  },
  {
   "cell_type": "markdown",
   "id": "866820d2",
   "metadata": {},
   "source": [
    "#### Creating a new column named \"Date\" with datatype of date"
   ]
  },
  {
   "cell_type": "code",
   "execution_count": 118,
   "id": "d8765b09",
   "metadata": {},
   "outputs": [
    {
     "data": {
      "text/html": [
       "<div>\n",
       "<style scoped>\n",
       "    .dataframe tbody tr th:only-of-type {\n",
       "        vertical-align: middle;\n",
       "    }\n",
       "\n",
       "    .dataframe tbody tr th {\n",
       "        vertical-align: top;\n",
       "    }\n",
       "\n",
       "    .dataframe thead th {\n",
       "        text-align: right;\n",
       "    }\n",
       "</style>\n",
       "<table border=\"1\" class=\"dataframe\">\n",
       "  <thead>\n",
       "    <tr style=\"text-align: right;\">\n",
       "      <th></th>\n",
       "      <th>State_Name</th>\n",
       "      <th>District_Name</th>\n",
       "      <th>Crop_Year</th>\n",
       "      <th>Season</th>\n",
       "      <th>Crop</th>\n",
       "      <th>Area</th>\n",
       "      <th>Production</th>\n",
       "      <th>Date</th>\n",
       "    </tr>\n",
       "  </thead>\n",
       "  <tbody>\n",
       "    <tr>\n",
       "      <th>0</th>\n",
       "      <td>Andaman and Nicobar Islands</td>\n",
       "      <td>NICOBARS</td>\n",
       "      <td>2000</td>\n",
       "      <td>Kharif</td>\n",
       "      <td>Arecanut</td>\n",
       "      <td>1254.0</td>\n",
       "      <td>2000.0</td>\n",
       "      <td>2000-01-01</td>\n",
       "    </tr>\n",
       "    <tr>\n",
       "      <th>2</th>\n",
       "      <td>Andaman and Nicobar Islands</td>\n",
       "      <td>NICOBARS</td>\n",
       "      <td>2000</td>\n",
       "      <td>Kharif</td>\n",
       "      <td>Rice</td>\n",
       "      <td>102.0</td>\n",
       "      <td>321.0</td>\n",
       "      <td>2000-01-01</td>\n",
       "    </tr>\n",
       "    <tr>\n",
       "      <th>3</th>\n",
       "      <td>Andaman and Nicobar Islands</td>\n",
       "      <td>NICOBARS</td>\n",
       "      <td>2000</td>\n",
       "      <td>Whole Year</td>\n",
       "      <td>Banana</td>\n",
       "      <td>176.0</td>\n",
       "      <td>641.0</td>\n",
       "      <td>2000-01-01</td>\n",
       "    </tr>\n",
       "    <tr>\n",
       "      <th>4</th>\n",
       "      <td>Andaman and Nicobar Islands</td>\n",
       "      <td>NICOBARS</td>\n",
       "      <td>2000</td>\n",
       "      <td>Whole Year</td>\n",
       "      <td>Cashewnut</td>\n",
       "      <td>720.0</td>\n",
       "      <td>165.0</td>\n",
       "      <td>2000-01-01</td>\n",
       "    </tr>\n",
       "    <tr>\n",
       "      <th>5</th>\n",
       "      <td>Andaman and Nicobar Islands</td>\n",
       "      <td>NICOBARS</td>\n",
       "      <td>2000</td>\n",
       "      <td>Whole Year</td>\n",
       "      <td>Coconut</td>\n",
       "      <td>18168.0</td>\n",
       "      <td>65100000.0</td>\n",
       "      <td>2000-01-01</td>\n",
       "    </tr>\n",
       "  </tbody>\n",
       "</table>\n",
       "</div>"
      ],
      "text/plain": [
       "                    State_Name District_Name  Crop_Year      Season  \\\n",
       "0  Andaman and Nicobar Islands      NICOBARS       2000      Kharif   \n",
       "2  Andaman and Nicobar Islands      NICOBARS       2000      Kharif   \n",
       "3  Andaman and Nicobar Islands      NICOBARS       2000  Whole Year   \n",
       "4  Andaman and Nicobar Islands      NICOBARS       2000  Whole Year   \n",
       "5  Andaman and Nicobar Islands      NICOBARS       2000  Whole Year   \n",
       "\n",
       "        Crop     Area  Production       Date  \n",
       "0   Arecanut   1254.0      2000.0 2000-01-01  \n",
       "2       Rice    102.0       321.0 2000-01-01  \n",
       "3     Banana    176.0       641.0 2000-01-01  \n",
       "4  Cashewnut    720.0       165.0 2000-01-01  \n",
       "5    Coconut  18168.0  65100000.0 2000-01-01  "
      ]
     },
     "execution_count": 118,
     "metadata": {},
     "output_type": "execute_result"
    }
   ],
   "source": [
    "df[\"Date\"] = pd.to_datetime(df[\"Crop_Year\"], format='%Y')\n",
    "df.head()"
   ]
  },
  {
   "cell_type": "markdown",
   "id": "e6b9d0d2",
   "metadata": {},
   "source": [
    "##### Combining all the duplicated or duplicated into one crop \n",
    "##### and correcting the spelling of all the incorrect ones."
   ]
  },
  {
   "cell_type": "code",
   "execution_count": 119,
   "id": "49598339",
   "metadata": {},
   "outputs": [
    {
     "data": {
      "text/plain": [
       "array(['Arecanut', 'Rice', 'Banana', 'Cashewnut', 'Coconut', 'Dry ginger',\n",
       "       'Tapioca', 'Sweet potato', 'Black pepper', 'Dry chillies',\n",
       "       'other oilseeds', 'Sugarcane', 'Turmeric', 'Maize',\n",
       "       'Moong(Green Gram)', 'Urad', 'Other Kharif pulses', 'Arhar/Tur',\n",
       "       'Groundnut', 'Sunflower', 'Bajra', 'Castor seed', 'Cotton(lint)',\n",
       "       'Horse-gram', 'Jowar', 'Korra', 'Ragi', 'Tobacco', 'Gram', 'Wheat',\n",
       "       'Masoor', 'Safflower', 'Onion', 'other misc. pulses',\n",
       "       'Small millets', 'Coriander', 'Bhindi', 'Brinjal', 'Citrus Fruit',\n",
       "       'Grapes', 'Mango', 'Orange', 'Other Fresh Fruits', 'Papaya',\n",
       "       'Pome Fruit', 'Tomato', 'Samai', 'Soyabean', 'Linseed', 'Mesta',\n",
       "       'Potato', 'Cowpea(Lobia)', 'Lemon', 'Pome Granet', 'Sapota',\n",
       "       'Cabbage', 'Sesamum', 'Beans & Mutter(Vegetable)',\n",
       "       'Other  Rabi pulses', 'Rapeseed &Mustard', 'Niger seed', 'Varagu',\n",
       "       'Ginger', 'Oilseeds total', 'Pulses total', 'Jute',\n",
       "       'Peas & beans (Pulses)', 'Blackgram', 'Paddy', 'Pineapple',\n",
       "       'Barley', 'Garlic', 'Khesari', 'Sannhamp', 'Guar seed',\n",
       "       'Other Vegetables', 'Moth', 'Other Cereals & Millets',\n",
       "       'Cond-spcs other', 'Turnip', 'Carrot', 'Redish',\n",
       "       'Arcanut (Processed)', 'Atcanut (Raw)', 'Cashewnut Raw',\n",
       "       'Cashewnut Processed', 'Cardamom', 'Rubber', 'Drum Stick',\n",
       "       'Jack Fruit', 'Coffee', 'Tea', 'Total foodgrain', 'Cauliflower',\n",
       "       'Bitter Gourd', 'Bottle Gourd', 'Kapas', 'Colocosia', 'Lentil',\n",
       "       'Bean', 'Jobster', 'Perilla', 'Rajmash Kholar',\n",
       "       'Ricebean (nagadal)', 'Jute & mesta'], dtype=object)"
      ]
     },
     "execution_count": 119,
     "metadata": {},
     "output_type": "execute_result"
    }
   ],
   "source": [
    "df['Crop'].unique()"
   ]
  },
  {
   "cell_type": "code",
   "execution_count": 120,
   "id": "af7ee687",
   "metadata": {},
   "outputs": [],
   "source": [
    "substitute = {\n",
    "    \"Sesamum\": \"Seasum\",\n",
    "    \"Pome Granet\": \"Pomegranate\",\n",
    "    \"Sannhamp\": \"Sunhemp\",\n",
    "    \"Redish\": \"Raddish\",\n",
    "    \"Soyabean\": \"Soybean\",\n",
    "    \"Snak Guard\": \"Snake Gourd\",\n",
    "    \"Pump Kin\": \"Pumpkin\",\n",
    "    \"Rice\": \"Paddy\",\n",
    "    \"Urad\": \"Blackgram\",\n",
    "    \"Masoor\": \"Lentil\",\n",
    "    \"Jute\": \"Jute & mesta\",\n",
    "    \"Mesta\": \"Jute & mesta\",\n",
    "    \"Kapas\": \"Cotton(lint)\"\n",
    "}\n",
    "\n",
    "for original, replace in substitute.items():\n",
    "    df[\"Crop\"] = df[\"Crop\"].apply(lambda x: replace if x == original else x)"
   ]
  },
  {
   "cell_type": "code",
   "execution_count": 121,
   "id": "9961ff4f",
   "metadata": {},
   "outputs": [
    {
     "data": {
      "text/plain": [
       "array(['Arecanut', 'Paddy', 'Banana', 'Cashewnut', 'Coconut',\n",
       "       'Dry ginger', 'Tapioca', 'Sweet potato', 'Black pepper',\n",
       "       'Dry chillies', 'other oilseeds', 'Sugarcane', 'Turmeric', 'Maize',\n",
       "       'Moong(Green Gram)', 'Blackgram', 'Other Kharif pulses',\n",
       "       'Arhar/Tur', 'Groundnut', 'Sunflower', 'Bajra', 'Castor seed',\n",
       "       'Cotton(lint)', 'Horse-gram', 'Jowar', 'Korra', 'Ragi', 'Tobacco',\n",
       "       'Gram', 'Wheat', 'Lentil', 'Safflower', 'Onion',\n",
       "       'other misc. pulses', 'Small millets', 'Coriander', 'Bhindi',\n",
       "       'Brinjal', 'Citrus Fruit', 'Grapes', 'Mango', 'Orange',\n",
       "       'Other Fresh Fruits', 'Papaya', 'Pome Fruit', 'Tomato', 'Samai',\n",
       "       'Soybean', 'Linseed', 'Jute & mesta', 'Potato', 'Cowpea(Lobia)',\n",
       "       'Lemon', 'Pomegranate', 'Sapota', 'Cabbage', 'Seasum',\n",
       "       'Beans & Mutter(Vegetable)', 'Other  Rabi pulses',\n",
       "       'Rapeseed &Mustard', 'Niger seed', 'Varagu', 'Ginger',\n",
       "       'Oilseeds total', 'Pulses total', 'Peas & beans (Pulses)',\n",
       "       'Pineapple', 'Barley', 'Garlic', 'Khesari', 'Sunhemp', 'Guar seed',\n",
       "       'Other Vegetables', 'Moth', 'Other Cereals & Millets',\n",
       "       'Cond-spcs other', 'Turnip', 'Carrot', 'Raddish',\n",
       "       'Arcanut (Processed)', 'Atcanut (Raw)', 'Cashewnut Raw',\n",
       "       'Cashewnut Processed', 'Cardamom', 'Rubber', 'Drum Stick',\n",
       "       'Jack Fruit', 'Coffee', 'Tea', 'Total foodgrain', 'Cauliflower',\n",
       "       'Bitter Gourd', 'Bottle Gourd', 'Colocosia', 'Bean', 'Jobster',\n",
       "       'Perilla', 'Rajmash Kholar', 'Ricebean (nagadal)'], dtype=object)"
      ]
     },
     "execution_count": 121,
     "metadata": {},
     "output_type": "execute_result"
    }
   ],
   "source": [
    "df.Crop.unique()"
   ]
  },
  {
   "cell_type": "code",
   "execution_count": 122,
   "id": "95008671",
   "metadata": {},
   "outputs": [
    {
     "data": {
      "text/plain": [
       "array(['Condiment', 'Cereal', 'Fruit', 'Dryfruit', 'Plantation',\n",
       "       'Vegetable', 'Oilseed', 'Pulses'], dtype=object)"
      ]
     },
     "execution_count": 122,
     "metadata": {},
     "output_type": "execute_result"
    }
   ],
   "source": [
    "def category_name(name):\n",
    "    Cereals = ['Wheat','Maize','Bajra','Paddy', 'Jowar', 'Korra','Ragi','Small millets','Samai', 'Varagu','Barley','Khesari','Other Cereals & Millets','Total foodgrain','Jobster']\n",
    "    Pulses = ['Pulses total','Other  Rabi pulses','Other Kharif pulses','Moong(Green Gram)','Blackgram','Lentil','Arhar/Tur','Horse-gram','Gram','other misc. pulses','Other rabi pulses','Other fibres','Cowpea(Lobia)','Peas & beans (Pulses)','Moth','Bean','Rajmash Kholar','Ricebean (nagadal)']\n",
    "    Vegetables = ['Beans & Mutter(Vegetable)','Lemon','Sweet potato','Tapioca','Onion','Potato','Bhindi','Brinjal','Cucumber','Other Vegetables','Tomato','Cabbage','Peas  (vegetable)','Bottle Gourd','Turnip','Carrot','Raddish','Bitter Gourd','Drum Stick','Jack Fruit','Snake Gourd','Pumpkin','Cauliflower','Colocosia','Ash Gourd','Beet Root','Lab-Lab','Ribed Guard','Yam','Perilla']\n",
    "    Fruits = ['Sapota','Banana','Citrus Fruit','Grapes','Mango','Orange','Other Fresh Fruits','Papaya','Pome Fruit','Pomegranate','Pineapple','Other Citrus Fruit','Water Melon','Apple','Peach','Pear','Plums','Litchi','Ber']\n",
    "    Oilseeds = ['other oilseeds','Groundnut','Sunflower','Castor seed','Safflower','Linseed','Seasum','Rapeseed &Mustard','Niger seed','Oilseeds total','Sunhemp','Soybean']\n",
    "    Condiments = ['Dry ginger','Black pepper','Dry chillies','Turmeric','Coriander','Garlic','Ginger','Cond-spcs other','Cardamom','Arcanut (Processed)','Atcanut (Raw)','Arecanut']\n",
    "    Dryfruits = ['Cashewnut','Cashewnut Processed','Cashewnut Raw','Other Dry Fruit']\n",
    "    Plantation = ['Coconut','Sugarcane','Cotton(lint)','Tobacco','Jute & mesta','Guar seed','Rubber','Tea','Coffee','other fibres']\n",
    "    if name in Cereals:\n",
    "        return 'Cereal'\n",
    "    elif name in Pulses:\n",
    "        return 'Pulses'\n",
    "    elif name in Vegetables:\n",
    "        return 'Vegetable'\n",
    "    elif name in Fruits:\n",
    "        return 'Fruit'\n",
    "    elif name in Oilseeds:\n",
    "        return 'Oilseed'\n",
    "    elif name in Condiments:\n",
    "        return 'Condiment'\n",
    "    elif name in Dryfruits:\n",
    "        return 'Dryfruit'\n",
    "    elif name in Plantation:\n",
    "        return 'Plantation'\n",
    "    else:\n",
    "        return 'None'\n",
    "    \n",
    "df[\"Category\"] = df[\"Crop\"].apply(category_name)\n",
    "df[\"Category\"].unique()"
   ]
  },
  {
   "cell_type": "code",
   "execution_count": 123,
   "id": "df61a58e",
   "metadata": {},
   "outputs": [
    {
     "data": {
      "text/plain": [
       "array(['South India', 'East India', 'North India', 'West India'],\n",
       "      dtype=object)"
      ]
     },
     "execution_count": 123,
     "metadata": {},
     "output_type": "execute_result"
    }
   ],
   "source": [
    "def category(name):\n",
    "    east_india = ['West Bengal', 'Tripura', 'Arunachal Pradesh', 'Assam', 'Manipur', 'Meghalaya', 'Mizoram', 'Nagaland', 'Sikkim','Odisha']\n",
    "    west_india = ['Maharashtra', 'Gujarat', 'Dadra and Nagar Haveli', 'Goa', 'Rajasthan']\n",
    "    north_india = ['Bihar', 'Chandigarh', 'Chhattisgarh', 'Haryana', 'Himachal Pradesh', 'Jammu and Kashmir', 'Jharkhand', 'Madhya Pradesh', 'Punjab', 'Uttar Pradesh', 'Uttarakhand']\n",
    "    south_india = ['Tamil Nadu', 'Telangana', 'Andaman and Nicobar Islands', 'Andhra Pradesh', 'Karnataka', 'Kerala', 'Puducherry']\n",
    "    \n",
    "    if name in east_india:\n",
    "        return 'East India'\n",
    "    elif name in west_india:\n",
    "        return 'West India'\n",
    "    elif name in north_india:\n",
    "        return 'North India'\n",
    "    elif name in south_india:\n",
    "        return 'South India'\n",
    "    else:\n",
    "        return 'None'\n",
    "    \n",
    "df[\"Region\"] = df[\"State_Name\"].apply(category)\n",
    "df[\"Region\"].unique()"
   ]
  },
  {
   "cell_type": "code",
   "execution_count": 125,
   "id": "9c6e88a0",
   "metadata": {},
   "outputs": [
    {
     "data": {
      "text/plain": [
       "Index(['State_Name', 'District_Name', 'Crop_Year', 'Season', 'Crop', 'Area',\n",
       "       'Production', 'Date', 'Category', 'Region'],\n",
       "      dtype='object')"
      ]
     },
     "execution_count": 125,
     "metadata": {},
     "output_type": "execute_result"
    }
   ],
   "source": [
    "df.columns"
   ]
  },
  {
   "cell_type": "code",
   "execution_count": 126,
   "id": "b479da16",
   "metadata": {},
   "outputs": [
    {
     "data": {
      "text/html": [
       "<div>\n",
       "<style scoped>\n",
       "    .dataframe tbody tr th:only-of-type {\n",
       "        vertical-align: middle;\n",
       "    }\n",
       "\n",
       "    .dataframe tbody tr th {\n",
       "        vertical-align: top;\n",
       "    }\n",
       "\n",
       "    .dataframe thead th {\n",
       "        text-align: right;\n",
       "    }\n",
       "</style>\n",
       "<table border=\"1\" class=\"dataframe\">\n",
       "  <thead>\n",
       "    <tr style=\"text-align: right;\">\n",
       "      <th></th>\n",
       "      <th>State_Name</th>\n",
       "      <th>District_Name</th>\n",
       "      <th>Crop_Year</th>\n",
       "      <th>Season</th>\n",
       "      <th>Crop</th>\n",
       "      <th>Area</th>\n",
       "      <th>Production</th>\n",
       "      <th>Date</th>\n",
       "      <th>Category</th>\n",
       "      <th>Region</th>\n",
       "      <th>Productivity</th>\n",
       "      <th>Total Production</th>\n",
       "    </tr>\n",
       "  </thead>\n",
       "  <tbody>\n",
       "    <tr>\n",
       "      <th>0</th>\n",
       "      <td>Andaman and Nicobar Islands</td>\n",
       "      <td>NICOBARS</td>\n",
       "      <td>2000</td>\n",
       "      <td>Kharif</td>\n",
       "      <td>Arecanut</td>\n",
       "      <td>1254.0</td>\n",
       "      <td>2000.0</td>\n",
       "      <td>2000-01-01</td>\n",
       "      <td>Condiment</td>\n",
       "      <td>South India</td>\n",
       "      <td>1.594896</td>\n",
       "      <td>2.508000e+06</td>\n",
       "    </tr>\n",
       "    <tr>\n",
       "      <th>2</th>\n",
       "      <td>Andaman and Nicobar Islands</td>\n",
       "      <td>NICOBARS</td>\n",
       "      <td>2000</td>\n",
       "      <td>Kharif</td>\n",
       "      <td>Paddy</td>\n",
       "      <td>102.0</td>\n",
       "      <td>321.0</td>\n",
       "      <td>2000-01-01</td>\n",
       "      <td>Cereal</td>\n",
       "      <td>South India</td>\n",
       "      <td>3.147059</td>\n",
       "      <td>3.274200e+04</td>\n",
       "    </tr>\n",
       "    <tr>\n",
       "      <th>3</th>\n",
       "      <td>Andaman and Nicobar Islands</td>\n",
       "      <td>NICOBARS</td>\n",
       "      <td>2000</td>\n",
       "      <td>Whole Year</td>\n",
       "      <td>Banana</td>\n",
       "      <td>176.0</td>\n",
       "      <td>641.0</td>\n",
       "      <td>2000-01-01</td>\n",
       "      <td>Fruit</td>\n",
       "      <td>South India</td>\n",
       "      <td>3.642045</td>\n",
       "      <td>1.128160e+05</td>\n",
       "    </tr>\n",
       "    <tr>\n",
       "      <th>4</th>\n",
       "      <td>Andaman and Nicobar Islands</td>\n",
       "      <td>NICOBARS</td>\n",
       "      <td>2000</td>\n",
       "      <td>Whole Year</td>\n",
       "      <td>Cashewnut</td>\n",
       "      <td>720.0</td>\n",
       "      <td>165.0</td>\n",
       "      <td>2000-01-01</td>\n",
       "      <td>Dryfruit</td>\n",
       "      <td>South India</td>\n",
       "      <td>0.229167</td>\n",
       "      <td>1.188000e+05</td>\n",
       "    </tr>\n",
       "    <tr>\n",
       "      <th>5</th>\n",
       "      <td>Andaman and Nicobar Islands</td>\n",
       "      <td>NICOBARS</td>\n",
       "      <td>2000</td>\n",
       "      <td>Whole Year</td>\n",
       "      <td>Coconut</td>\n",
       "      <td>18168.0</td>\n",
       "      <td>65100000.0</td>\n",
       "      <td>2000-01-01</td>\n",
       "      <td>Plantation</td>\n",
       "      <td>South India</td>\n",
       "      <td>3583.223250</td>\n",
       "      <td>1.182737e+12</td>\n",
       "    </tr>\n",
       "  </tbody>\n",
       "</table>\n",
       "</div>"
      ],
      "text/plain": [
       "                    State_Name District_Name  Crop_Year      Season  \\\n",
       "0  Andaman and Nicobar Islands      NICOBARS       2000      Kharif   \n",
       "2  Andaman and Nicobar Islands      NICOBARS       2000      Kharif   \n",
       "3  Andaman and Nicobar Islands      NICOBARS       2000  Whole Year   \n",
       "4  Andaman and Nicobar Islands      NICOBARS       2000  Whole Year   \n",
       "5  Andaman and Nicobar Islands      NICOBARS       2000  Whole Year   \n",
       "\n",
       "        Crop     Area  Production       Date    Category       Region  \\\n",
       "0   Arecanut   1254.0      2000.0 2000-01-01   Condiment  South India   \n",
       "2      Paddy    102.0       321.0 2000-01-01      Cereal  South India   \n",
       "3     Banana    176.0       641.0 2000-01-01       Fruit  South India   \n",
       "4  Cashewnut    720.0       165.0 2000-01-01    Dryfruit  South India   \n",
       "5    Coconut  18168.0  65100000.0 2000-01-01  Plantation  South India   \n",
       "\n",
       "   Productivity  Total Production  \n",
       "0      1.594896      2.508000e+06  \n",
       "2      3.147059      3.274200e+04  \n",
       "3      3.642045      1.128160e+05  \n",
       "4      0.229167      1.188000e+05  \n",
       "5   3583.223250      1.182737e+12  "
      ]
     },
     "execution_count": 126,
     "metadata": {},
     "output_type": "execute_result"
    }
   ],
   "source": [
    "#new columns productivity and Total production\n",
    "df[\"Productivity\"] = df[\"Production\"] / df[\"Area\"]\n",
    "df[\"Total Production\"] = df[\"Production\"] * df[\"Area\"]\n",
    "df.head()"
   ]
  },
  {
   "cell_type": "code",
   "execution_count": 127,
   "id": "9cce7038",
   "metadata": {},
   "outputs": [],
   "source": [
    "#Removing Outliers\n",
    "Q1 = df[\"Total Production\"].quantile(0.40)\n",
    "Q3 = df[\"Total Production\"].quantile(0.60)\n",
    "IQR = Q3 - Q1\n",
    "\n",
    "df = df[(df[\"Total Production\"] >= Q1 - 1.5*IQR) & (df[\"Total Production\"] <= Q3 + 1.5*IQR)]"
   ]
  },
  {
   "cell_type": "code",
   "execution_count": 128,
   "id": "70e84a56",
   "metadata": {},
   "outputs": [],
   "source": [
    "Q1 = df[\"Productivity\"].quantile(0.40)\n",
    "Q3 = df[\"Productivity\"].quantile(0.60)\n",
    "IQR = Q3 - Q1\n",
    "\n",
    "df = df[(df[\"Productivity\"] >= Q1 - 1.5*IQR) & (df[\"Productivity\"] <= Q3 + 1.5*IQR)]"
   ]
  },
  {
   "cell_type": "code",
   "execution_count": 129,
   "id": "a4e53e24",
   "metadata": {},
   "outputs": [
    {
     "data": {
      "text/plain": [
       "(array([76471.,  7244.,  4003.,  2715.,  2069.,  1737.,  1360.,  1182.,\n",
       "         1103.,   954.]),\n",
       " array([8.00000000e-03, 1.03201841e+06, 2.06403681e+06, 3.09605521e+06,\n",
       "        4.12807360e+06, 5.16009200e+06, 6.19211040e+06, 7.22412880e+06,\n",
       "        8.25614720e+06, 9.28816560e+06, 1.03201840e+07]),\n",
       " <BarContainer object of 10 artists>)"
      ]
     },
     "execution_count": 129,
     "metadata": {},
     "output_type": "execute_result"
    },
    {
     "data": {
      "image/png": "[encoded data removed]",
      "text/plain": [
       "<Figure size 640x480 with 1 Axes>"
      ]
     },
     "metadata": {},
     "output_type": "display_data"
    }
   ],
   "source": [
    "plt.hist(df[\"Total Production\"])"
   ]
  },
  {
   "cell_type": "code",
   "execution_count": 130,
   "id": "6d93551e",
   "metadata": {},
   "outputs": [
    {
     "data": {
      "text/plain": [
       "(array([11945., 15447., 16155., 13738., 12010., 11274.,  6138.,  4620.,\n",
       "         4446.,  3065.]),\n",
       " array([0.13736264, 0.29120702, 0.4450514 , 0.59889578, 0.75274016,\n",
       "        0.90658454, 1.06042893, 1.21427331, 1.36811769, 1.52196207,\n",
       "        1.67580645]),\n",
       " <BarContainer object of 10 artists>)"
      ]
     },
     "execution_count": 130,
     "metadata": {},
     "output_type": "execute_result"
    },
    {
     "data": {
      "image/png": "[encoded data removed]",
      "text/plain": [
       "<Figure size 640x480 with 1 Axes>"
      ]
     },
     "metadata": {},
     "output_type": "display_data"
    }
   ],
   "source": [
    "plt.hist(df[\"Productivity\"])"
   ]
  },
  {
   "cell_type": "code",
   "execution_count": 132,
   "id": "45d4aaa0",
   "metadata": {},
   "outputs": [
    {
     "name": "stderr",
     "output_type": "stream",
     "text": [
      "C:\\Users\\Admin\\AppData\\Local\\Temp\\ipykernel_10640\\3557104940.py:1: FutureWarning: The default value of numeric_only in DataFrameGroupBy.sum is deprecated. In a future version, numeric_only will default to False. Either specify numeric_only or select only columns which should be valid for the function.\n",
      "  val=df.groupby('Crop').sum().sort_values(by='Production',ascending = False)['Production'].values\n",
      "C:\\Users\\Admin\\AppData\\Local\\Temp\\ipykernel_10640\\3557104940.py:2: FutureWarning: The default value of numeric_only in DataFrameGroupBy.sum is deprecated. In a future version, numeric_only will default to False. Either specify numeric_only or select only columns which should be valid for the function.\n",
      "  lab=df.groupby('Crop').sum().sort_values(by='Production',ascending = False)['Production'].index\n"
     ]
    }
   ],
   "source": [
    "val=df.groupby('Crop').sum().sort_values(by='Production',ascending = False)['Production'].values\n",
    "lab=df.groupby('Crop').sum().sort_values(by='Production',ascending = False)['Production'].index"
   ]
  },
  {
   "cell_type": "code",
   "execution_count": 133,
   "id": "c4b80028",
   "metadata": {},
   "outputs": [
    {
     "data": {
      "image/png": "[encoded data removed]",
      "text/plain": [
       "<Figure size 1000x800 with 1 Axes>"
      ]
     },
     "metadata": {},
     "output_type": "display_data"
    }
   ],
   "source": [
    "plt.figure(figsize=(10,8))\n",
    "plt.pie(val,labels=lab,autopct='%0.1f%%')\n",
    "plt.show()"
   ]
  },
  {
   "cell_type": "code",
   "execution_count": 138,
   "id": "72e9881f",
   "metadata": {},
   "outputs": [
    {
     "data": {
      "text/html": [
       "<div>\n",
       "<style scoped>\n",
       "    .dataframe tbody tr th:only-of-type {\n",
       "        vertical-align: middle;\n",
       "    }\n",
       "\n",
       "    .dataframe tbody tr th {\n",
       "        vertical-align: top;\n",
       "    }\n",
       "\n",
       "    .dataframe thead th {\n",
       "        text-align: right;\n",
       "    }\n",
       "</style>\n",
       "<table border=\"1\" class=\"dataframe\">\n",
       "  <thead>\n",
       "    <tr style=\"text-align: right;\">\n",
       "      <th></th>\n",
       "      <th>State_Name</th>\n",
       "      <th>District_Name</th>\n",
       "      <th>Crop_Year</th>\n",
       "      <th>Season</th>\n",
       "      <th>Crop</th>\n",
       "      <th>Area</th>\n",
       "      <th>Production</th>\n",
       "      <th>Date</th>\n",
       "      <th>Category</th>\n",
       "      <th>Region</th>\n",
       "      <th>Productivity</th>\n",
       "      <th>Total Production</th>\n",
       "    </tr>\n",
       "  </thead>\n",
       "  <tbody>\n",
       "    <tr>\n",
       "      <th>0</th>\n",
       "      <td>Andaman and Nicobar Islands</td>\n",
       "      <td>NICOBARS</td>\n",
       "      <td>2000</td>\n",
       "      <td>Kharif</td>\n",
       "      <td>Arecanut</td>\n",
       "      <td>1254.0</td>\n",
       "      <td>2000.0</td>\n",
       "      <td>2000-01-01</td>\n",
       "      <td>Condiment</td>\n",
       "      <td>South India</td>\n",
       "      <td>1.594896</td>\n",
       "      <td>2508000.0</td>\n",
       "    </tr>\n",
       "    <tr>\n",
       "      <th>4</th>\n",
       "      <td>Andaman and Nicobar Islands</td>\n",
       "      <td>NICOBARS</td>\n",
       "      <td>2000</td>\n",
       "      <td>Whole Year</td>\n",
       "      <td>Cashewnut</td>\n",
       "      <td>720.0</td>\n",
       "      <td>165.0</td>\n",
       "      <td>2000-01-01</td>\n",
       "      <td>Dryfruit</td>\n",
       "      <td>South India</td>\n",
       "      <td>0.229167</td>\n",
       "      <td>118800.0</td>\n",
       "    </tr>\n",
       "    <tr>\n",
       "      <th>10</th>\n",
       "      <td>Andaman and Nicobar Islands</td>\n",
       "      <td>NICOBARS</td>\n",
       "      <td>2001</td>\n",
       "      <td>Kharif</td>\n",
       "      <td>Arecanut</td>\n",
       "      <td>1254.0</td>\n",
       "      <td>2061.0</td>\n",
       "      <td>2001-01-01</td>\n",
       "      <td>Condiment</td>\n",
       "      <td>South India</td>\n",
       "      <td>1.643541</td>\n",
       "      <td>2584494.0</td>\n",
       "    </tr>\n",
       "    <tr>\n",
       "      <th>13</th>\n",
       "      <td>Andaman and Nicobar Islands</td>\n",
       "      <td>NICOBARS</td>\n",
       "      <td>2001</td>\n",
       "      <td>Whole Year</td>\n",
       "      <td>Cashewnut</td>\n",
       "      <td>719.0</td>\n",
       "      <td>192.0</td>\n",
       "      <td>2001-01-01</td>\n",
       "      <td>Dryfruit</td>\n",
       "      <td>South India</td>\n",
       "      <td>0.267038</td>\n",
       "      <td>138048.0</td>\n",
       "    </tr>\n",
       "    <tr>\n",
       "      <th>19</th>\n",
       "      <td>Andaman and Nicobar Islands</td>\n",
       "      <td>NICOBARS</td>\n",
       "      <td>2002</td>\n",
       "      <td>Whole Year</td>\n",
       "      <td>Arecanut</td>\n",
       "      <td>1258.0</td>\n",
       "      <td>2083.0</td>\n",
       "      <td>2002-01-01</td>\n",
       "      <td>Condiment</td>\n",
       "      <td>South India</td>\n",
       "      <td>1.655803</td>\n",
       "      <td>2620414.0</td>\n",
       "    </tr>\n",
       "  </tbody>\n",
       "</table>\n",
       "</div>"
      ],
      "text/plain": [
       "                     State_Name District_Name  Crop_Year      Season  \\\n",
       "0   Andaman and Nicobar Islands      NICOBARS       2000      Kharif   \n",
       "4   Andaman and Nicobar Islands      NICOBARS       2000  Whole Year   \n",
       "10  Andaman and Nicobar Islands      NICOBARS       2001      Kharif   \n",
       "13  Andaman and Nicobar Islands      NICOBARS       2001  Whole Year   \n",
       "19  Andaman and Nicobar Islands      NICOBARS       2002  Whole Year   \n",
       "\n",
       "         Crop    Area  Production       Date   Category       Region  \\\n",
       "0    Arecanut  1254.0      2000.0 2000-01-01  Condiment  South India   \n",
       "4   Cashewnut   720.0       165.0 2000-01-01   Dryfruit  South India   \n",
       "10   Arecanut  1254.0      2061.0 2001-01-01  Condiment  South India   \n",
       "13  Cashewnut   719.0       192.0 2001-01-01   Dryfruit  South India   \n",
       "19   Arecanut  1258.0      2083.0 2002-01-01  Condiment  South India   \n",
       "\n",
       "    Productivity  Total Production  \n",
       "0       1.594896         2508000.0  \n",
       "4       0.229167          118800.0  \n",
       "10      1.643541         2584494.0  \n",
       "13      0.267038          138048.0  \n",
       "19      1.655803         2620414.0  "
      ]
     },
     "execution_count": 138,
     "metadata": {},
     "output_type": "execute_result"
    }
   ],
   "source": [
    "df.head()"
   ]
  },
  {
   "cell_type": "code",
   "execution_count": 139,
   "id": "e2a28dec",
   "metadata": {},
   "outputs": [],
   "source": [
    "#df.to_csv('Crop_FinalData.csv')"
   ]
  },
  {
   "cell_type": "code",
   "execution_count": 141,
   "id": "f6d9d530",
   "metadata": {},
   "outputs": [],
   "source": [
    "#df.to_csv(\"Crop_Final_Data.csv\", index = False)"
   ]
  }
 ],
 "metadata": {
  "kernelspec": {
   "display_name": "Python 3 (ipykernel)",
   "language": "python",
   "name": "python3"
  },
  "language_info": {
   "codemirror_mode": {
    "name": "ipython",
    "version": 3
   },
   "file_extension": ".py",
   "mimetype": "text/x-python",
   "name": "python",
   "nbconvert_exporter": "python",
   "pygments_lexer": "ipython3",
   "version": "3.11.4"
  }
 },
 "nbformat": 4,
 "nbformat_minor": 5
}
